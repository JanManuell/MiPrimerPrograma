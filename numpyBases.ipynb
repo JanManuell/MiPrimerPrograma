{
  "nbformat": 4,
  "nbformat_minor": 0,
  "metadata": {
    "colab": {
      "name": "numpyBases.ipynb",
      "provenance": [],
      "authorship_tag": "ABX9TyMgHUgmO/6VmRqgXbKIwFOT",
      "include_colab_link": true
    },
    "kernelspec": {
      "name": "python3",
      "display_name": "Python 3"
    }
  },
  "cells": [
    {
      "cell_type": "markdown",
      "metadata": {
        "id": "view-in-github",
        "colab_type": "text"
      },
      "source": [
        "<a href=\"https://colab.research.google.com/github/JanManuell/MiPrimerPrograma/blob/main/numpyBases.ipynb\" target=\"_parent\"><img src=\"https://colab.research.google.com/assets/colab-badge.svg\" alt=\"Open In Colab\"/></a>"
      ]
    },
    {
      "cell_type": "code",
      "metadata": {
        "id": "5f1-Vpf7sJM6"
      },
      "source": [
        "import numpy as np"
      ],
      "execution_count": null,
      "outputs": []
    },
    {
      "cell_type": "code",
      "metadata": {
        "id": "bFjxaGHQseJZ"
      },
      "source": [
        "a = np.array(56.7)"
      ],
      "execution_count": null,
      "outputs": []
    },
    {
      "cell_type": "code",
      "metadata": {
        "id": "YyEhOQ9vsq8G"
      },
      "source": [
        "b = np.array([5,6,7,-3])"
      ],
      "execution_count": null,
      "outputs": []
    },
    {
      "cell_type": "code",
      "metadata": {
        "id": "OaLuYezZs6Io"
      },
      "source": [
        "c = np.array([[2,3],[-1,7]])"
      ],
      "execution_count": null,
      "outputs": []
    },
    {
      "cell_type": "code",
      "metadata": {
        "id": "Feg0HhdTtEul",
        "colab": {
          "base_uri": "https://localhost:8080/",
          "height": 53
        },
        "outputId": "240f51d8-bd86-40fe-9b50-7e56f81f8960"
      },
      "source": [
        "print(c)"
      ],
      "execution_count": null,
      "outputs": [
        {
          "output_type": "stream",
          "text": [
            "[[ 2  3]\n",
            " [-1  7]]\n"
          ],
          "name": "stdout"
        }
      ]
    },
    {
      "cell_type": "markdown",
      "metadata": {
        "id": "ojcK1vG8tOpF"
      },
      "source": [
        "Elemento x elemento"
      ]
    },
    {
      "cell_type": "code",
      "metadata": {
        "id": "y1YoZ0NKtI13",
        "colab": {
          "base_uri": "https://localhost:8080/",
          "height": 53
        },
        "outputId": "77b64ec1-0904-49e7-ff24-8cb8b919be07"
      },
      "source": [
        "operacion = c+a\n",
        "print(operacion)"
      ],
      "execution_count": null,
      "outputs": [
        {
          "output_type": "stream",
          "text": [
            "[[58.7 59.7]\n",
            " [55.7 63.7]]\n"
          ],
          "name": "stdout"
        }
      ]
    },
    {
      "cell_type": "markdown",
      "metadata": {
        "id": "4tJqxqNituO-"
      },
      "source": [
        "Operaciones no exe"
      ]
    },
    {
      "cell_type": "code",
      "metadata": {
        "id": "Ha17ExbPtqBm",
        "colab": {
          "base_uri": "https://localhost:8080/",
          "height": 35
        },
        "outputId": "118f4c98-41ac-46c1-fdbc-6651ac45e4fd"
      },
      "source": [
        "#Producto punto\n",
        "v1 = np.array([4,5,7,9])\n",
        "v2 = np.array([-1,4,6,7])\n",
        "operacion = np.dot(v1,v2)\n",
        "print(operacion)"
      ],
      "execution_count": null,
      "outputs": [
        {
          "output_type": "stream",
          "text": [
            "121\n"
          ],
          "name": "stdout"
        }
      ]
    },
    {
      "cell_type": "code",
      "metadata": {
        "id": "5GiKpN50uOa1",
        "colab": {
          "base_uri": "https://localhost:8080/",
          "height": 53
        },
        "outputId": "c3aabc0e-f50e-4a08-9777-f0146554e659"
      },
      "source": [
        "#Producto matricial\n",
        "m1 = np.array([[2,1],[0,-1]])\n",
        "m2 = np.array([[3,2],[1,-2]])\n",
        "operacion = np.matmul(m1,m2)\n",
        "print(operacion)"
      ],
      "execution_count": null,
      "outputs": [
        {
          "output_type": "stream",
          "text": [
            "[[ 7  2]\n",
            " [-1  2]]\n"
          ],
          "name": "stdout"
        }
      ]
    },
    {
      "cell_type": "markdown",
      "metadata": {
        "id": "r1V6_zdPwBkF"
      },
      "source": [
        "### **Conversion entre dimensiones**"
      ]
    },
    {
      "cell_type": "code",
      "metadata": {
        "id": "-mbIH1F-vqSe",
        "colab": {
          "base_uri": "https://localhost:8080/",
          "height": 35
        },
        "outputId": "e1fbd1f5-3e95-4592-c3f2-e3de7b2ffddc"
      },
      "source": [
        "print(a.shape) #Elemento escalar sin dimensión"
      ],
      "execution_count": null,
      "outputs": [
        {
          "output_type": "stream",
          "text": [
            "()\n"
          ],
          "name": "stdout"
        }
      ]
    },
    {
      "cell_type": "code",
      "metadata": {
        "id": "cfDR0BriwdJv",
        "colab": {
          "base_uri": "https://localhost:8080/",
          "height": 53
        },
        "outputId": "5cb695a1-9324-42f8-f47b-a56218558718"
      },
      "source": [
        "a = a.reshape(1) #Conversion a un vector\n",
        "print(a)         #Visualisamos el nuevo vector generado\n",
        "print (a.shape)  #Visualisamos la dimensión"
      ],
      "execution_count": null,
      "outputs": [
        {
          "output_type": "stream",
          "text": [
            "[56.7]\n",
            "(1,)\n"
          ],
          "name": "stdout"
        }
      ]
    },
    {
      "cell_type": "code",
      "metadata": {
        "id": "JqTGWdmMxCPg",
        "colab": {
          "base_uri": "https://localhost:8080/",
          "height": 35
        },
        "outputId": "6d6ad2c3-0082-418c-8ac5-9e94f08bf576"
      },
      "source": [
        "print(b)"
      ],
      "execution_count": null,
      "outputs": [
        {
          "output_type": "stream",
          "text": [
            "[ 5  6  7 -3]\n"
          ],
          "name": "stdout"
        }
      ]
    },
    {
      "cell_type": "code",
      "metadata": {
        "id": "a8SXtfe0xQbJ",
        "colab": {
          "base_uri": "https://localhost:8080/",
          "height": 53
        },
        "outputId": "6cb7583b-d825-4aa0-a2a2-594eab6bf36b"
      },
      "source": [
        "b = b.reshape(1,4)  #Re-escalamos a una matriz\n",
        "print(b)\n",
        "print(b.shape)"
      ],
      "execution_count": null,
      "outputs": [
        {
          "output_type": "stream",
          "text": [
            "[[ 5  6  7 -3]]\n",
            "(1, 4)\n"
          ],
          "name": "stdout"
        }
      ]
    },
    {
      "cell_type": "code",
      "metadata": {
        "id": "n3EB1dTvxlEe",
        "colab": {
          "base_uri": "https://localhost:8080/",
          "height": 53
        },
        "outputId": "b88a2e72-c363-4d26-f630-73be62772104"
      },
      "source": [
        "print(c)         #Valor de c"
      ],
      "execution_count": null,
      "outputs": [
        {
          "output_type": "stream",
          "text": [
            "[[ 2  3]\n",
            " [-1  7]]\n"
          ],
          "name": "stdout"
        }
      ]
    },
    {
      "cell_type": "code",
      "metadata": {
        "id": "OEuwjb45yB2u",
        "colab": {
          "base_uri": "https://localhost:8080/",
          "height": 53
        },
        "outputId": "301eb426-1381-4e30-ccb5-10c1c38eef15"
      },
      "source": [
        "c = c.reshape(4) #Re-escalamos a un vector de tamaño 4\n",
        "print(c)\n",
        "print(c.shape)"
      ],
      "execution_count": null,
      "outputs": [
        {
          "output_type": "stream",
          "text": [
            "[ 2  3 -1  7]\n",
            "(4,)\n"
          ],
          "name": "stdout"
        }
      ]
    }
  ]
}